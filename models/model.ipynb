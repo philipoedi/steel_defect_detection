{
 "cells": [
  {
   "cell_type": "code",
   "execution_count": 1,
   "metadata": {},
   "outputs": [],
   "source": [
    "import numpy as np\n",
    "import cv2\n",
    "from os import listdir"
   ]
  },
  {
   "cell_type": "code",
   "execution_count": 4,
   "metadata": {},
   "outputs": [],
   "source": [
    "folders = listdir(\"data\")\n",
    "folders.remove(\"trainval.txt\")\n",
    "folders.remove(\"test.txt\")\n",
    "data = np.zeros((3001,96,96))\n",
    "metadata = np.zeros((3001,6))\n",
    "metadata_dict = dict()\n",
    "for f in open(\"defect_count.csv\",\"r\"):\n",
    "    line = f.split(\",\",1)\n",
    "    metadata_dict[line[0]] = line[1][:-1].split(\",\")\n",
    "i = 0\n",
    "for folder in folders:\n",
    "    sub_folders = listdir(\"data/{}\".format(folder))\n",
    "    sub_folders = list(filter(lambda x: \"not\" not in x,sub_folders))\n",
    "    for sub_folder in sub_folders:\n",
    "        files = listdir(\"data/{}/{}\".format(folder,sub_folder))\n",
    "        for file in files:\n",
    "            img = cv2.imread(\"data/{}/{}/{}\".format(folder,sub_folder,file),0)\n",
    "            img = cv2.resize(img,(96,96))\n",
    "            data[i] = img\n",
    "            test_temp = file.split(\"_\")\n",
    "            if \"temp\" in test_temp[-1]:\n",
    "                metadata[i] = [0,0,0,0,0,0]\n",
    "            else:\n",
    "                metadata[i] = metadata_dict[test_temp[0]]                    \n",
    "            i += 1\n",
    "    data = data/255."
   ]
  },
  {
   "cell_type": "code",
   "execution_count": 8,
   "metadata": {},
   "outputs": [],
   "source": [
    "data = data.reshape((3001,96,96,1))\n",
    "data[0].shape"
   ]
  },
  {
   "cell_type": "code",
   "execution_count": 10,
   "metadata": {},
   "outputs": [
    {
     "data": {
      "text/plain": [
       "array([1., 2., 1., 1., 0., 0.])"
      ]
     },
     "execution_count": 10,
     "metadata": {},
     "output_type": "execute_result"
    }
   ],
   "source": [
    "metadata[0]"
   ]
  },
  {
   "cell_type": "code",
   "execution_count": 11,
   "metadata": {},
   "outputs": [],
   "source": [
    "from tensorflow.keras import Model\n",
    "from tensorflow.keras.layers import Input,Dense,Flatten,Conv2D,MaxPool2D,BatchNormalization,Dropout"
   ]
  },
  {
   "cell_type": "code",
   "execution_count": 25,
   "metadata": {},
   "outputs": [
    {
     "name": "stdout",
     "output_type": "stream",
     "text": [
      "Model: \"model_3\"\n",
      "_________________________________________________________________\n",
      "Layer (type)                 Output Shape              Param #   \n",
      "=================================================================\n",
      "input_5 (InputLayer)         [(None, 96, 96, 1)]       0         \n",
      "_________________________________________________________________\n",
      "conv2d_11 (Conv2D)           (None, 94, 94, 32)        320       \n",
      "_________________________________________________________________\n",
      "batch_normalization_10 (Batc (None, 94, 94, 32)        128       \n",
      "_________________________________________________________________\n",
      "max_pooling2d_10 (MaxPooling (None, 47, 47, 32)        0         \n",
      "_________________________________________________________________\n",
      "conv2d_12 (Conv2D)           (None, 45, 45, 64)        18496     \n",
      "_________________________________________________________________\n",
      "batch_normalization_11 (Batc (None, 45, 45, 64)        256       \n",
      "_________________________________________________________________\n",
      "max_pooling2d_11 (MaxPooling (None, 22, 22, 64)        0         \n",
      "_________________________________________________________________\n",
      "conv2d_13 (Conv2D)           (None, 20, 20, 128)       73856     \n",
      "_________________________________________________________________\n",
      "batch_normalization_12 (Batc (None, 20, 20, 128)       512       \n",
      "_________________________________________________________________\n",
      "max_pooling2d_12 (MaxPooling (None, 10, 10, 128)       0         \n",
      "_________________________________________________________________\n",
      "flatten_3 (Flatten)          (None, 12800)             0         \n",
      "_________________________________________________________________\n",
      "dense_6 (Dense)              (None, 100)               1280100   \n",
      "_________________________________________________________________\n",
      "dense_7 (Dense)              (None, 100)               10100     \n",
      "_________________________________________________________________\n",
      "dense_8 (Dense)              (None, 6)                 606       \n",
      "=================================================================\n",
      "Total params: 1,384,374\n",
      "Trainable params: 1,383,926\n",
      "Non-trainable params: 448\n",
      "_________________________________________________________________\n"
     ]
    }
   ],
   "source": [
    "i = Input(shape = (96,96,1))\n",
    "\n",
    "x = Conv2D(32,(3,3),activation= \"relu\")(i)\n",
    "x = BatchNormalization()(x)\n",
    "x = MaxPool2D()(x)\n",
    "\n",
    "x = Conv2D(64,(3,3),activation= \"relu\")(x)\n",
    "x = BatchNormalization()(x)\n",
    "x = MaxPool2D()(x)\n",
    "\n",
    "x = Conv2D(128,(3,3),activation= \"relu\")(x)\n",
    "x = BatchNormalization()(x)\n",
    "x = MaxPool2D()(x)\n",
    "\n",
    "x = Flatten()(x)\n",
    "x = Dense(100,activation = \"relu\")(x)\n",
    "x = Dense(100,activation = \"relu\")(x)\n",
    "x = Dense(metadata[0].shape[0])(x)\n",
    "\n",
    "model = Model(i,x)\n",
    "\n",
    "model.summary()"
   ]
  },
  {
   "cell_type": "code",
   "execution_count": 26,
   "metadata": {},
   "outputs": [],
   "source": [
    "model.compile(loss = \"mse\",optimizer = \"adam\")"
   ]
  },
  {
   "cell_type": "code",
   "execution_count": 27,
   "metadata": {},
   "outputs": [
    {
     "name": "stdout",
     "output_type": "stream",
     "text": [
      "Epoch 1/5\n",
      "94/94 [==============================] - 41s 433ms/step - loss: 2.3809\n",
      "Epoch 2/5\n",
      "94/94 [==============================] - 41s 436ms/step - loss: 1.0730\n",
      "Epoch 3/5\n",
      "94/94 [==============================] - 41s 435ms/step - loss: 0.7815\n",
      "Epoch 4/5\n",
      "94/94 [==============================] - 41s 439ms/step - loss: 0.7606\n",
      "Epoch 5/5\n",
      "94/94 [==============================] - 41s 435ms/step - loss: 0.6786\n"
     ]
    }
   ],
   "source": [
    "r = model.fit(data,metadata,epochs = 5)"
   ]
  },
  {
   "cell_type": "code",
   "execution_count": null,
   "metadata": {},
   "outputs": [],
   "source": []
  }
 ],
 "metadata": {
  "kernelspec": {
   "display_name": "Python 3",
   "language": "python",
   "name": "python3"
  },
  "language_info": {
   "codemirror_mode": {
    "name": "ipython",
    "version": 3
   },
   "file_extension": ".py",
   "mimetype": "text/x-python",
   "name": "python",
   "nbconvert_exporter": "python",
   "pygments_lexer": "ipython3",
   "version": "3.8.2"
  }
 },
 "nbformat": 4,
 "nbformat_minor": 4
}
