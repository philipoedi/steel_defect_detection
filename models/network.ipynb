{
 "cells": [
  {
   "cell_type": "code",
   "execution_count": 1,
   "metadata": {},
   "outputs": [],
   "source": [
    "import numpy as np\n",
    "import networkx as nx\n",
    "from itertools import product"
   ]
  },
  {
   "cell_type": "code",
   "execution_count": 63,
   "metadata": {},
   "outputs": [
    {
     "name": "stdout",
     "output_type": "stream",
     "text": [
      "{'weight': -0.019558098}\n",
      "{'weight': -0.030472497}\n",
      "{'weight': -0.03175644}\n",
      "{'weight': 0.025058154}\n",
      "{'weight': -0.019558098}\n",
      "{'weight': 0.019303424}\n",
      "{'weight': 0.029094122}\n",
      "{'weight': 0.15317488}\n",
      "{'weight': -0.0063123163}\n",
      "{'weight': 0.019303424}\n"
     ]
    }
   ],
   "source": [
    "def naming(length,pre):\n",
    "    return list(map(lambda x: pre+\"_{}\".format(x),list(range(length))))\n",
    "\n",
    "def full_connect(graph,start,end):\n",
    "    for i,j in product(start,end):\n",
    "        graph.add_edge(i,j)\n",
    "    start.extend(end)\n",
    "    return graph.subgraph(start+end)\n",
    "\n",
    "def add_weight_full(start,end,graph,weight):\n",
    "    layer_weights = model.get_layer(start).get_weights()       \n",
    "    layer_last  = int_layer.predict(x)\n",
    "    for i in graph.edges:\n",
    "        start_node = int(i[0].split(\"_\")[-1])\n",
    "        end_node = int(i[1].split(\"_\")[-1])\n",
    "        graph[i[0]][i[1]][\"weight\"] = layer_weights[0][end_node,start_node]*layer_last[0,end_node] - layer_weights[1][start_node]\n",
    "        print(G[i[0]][i[1]])\n",
    "    \n",
    "k = 2\n",
    "d2 = 5\n",
    "d1 = 5\n",
    "\n",
    "inlayer = 16\n",
    "\n",
    "d2_layer = naming(d2,\"d_2\") \n",
    "d1_layer = naming(d1,\"d_1\")\n",
    "k_layer = naming(k,\"k\")\n",
    "inlayer = naming(inlayer,\"inlayer\")\n",
    "\n",
    "G = nx.DiGraph()\n",
    "G.add_nodes_from(k_layer)\n",
    "G.add_nodes_from(inlayer)\n",
    "G.add_nodes_from(d2_layer)\n",
    "G.add_nodes_from(d1_layer)\n",
    "\n",
    "k_d2 = full_connect(G,k_layer,d2_layer)\n",
    "d2_d1 = full_connect(G,d2_layer,d1_layer)\n",
    "d1_in = full_connect(G,d1_layer,inlayer)\n",
    "in_end = full_connect(G,inlayer,[\"end\"])\n",
    "\n",
    "#weights to network\n",
    "layer_weights = model.layers[-1].get_weights()\n",
    "layer_last  = int_layer.predict(x)\n",
    "for i in k_d2.edges:\n",
    "    start_node = int(i[0].split(\"_\")[-1])\n",
    "    end_node = int(i[1].split(\"_\")[-1])\n",
    "    G[i[0]][i[1]][\"weight\"] = layer_weights[0][end_node,start_node]*layer_last[0,end_node] - layer_weights[1][start_node]\n",
    "    print(G[i[0]][i[1]])\n"
   ]
  },
  {
   "cell_type": "code",
   "execution_count": 76,
   "metadata": {},
   "outputs": [
    {
     "data": {
      "text/plain": [
       "<tensorflow.python.keras.layers.core.Dense at 0x7f17912cf670>"
      ]
     },
     "execution_count": 76,
     "metadata": {},
     "output_type": "execute_result"
    }
   ],
   "source": [
    "model.get_layer(\"dense_2\")"
   ]
  },
  {
   "cell_type": "code",
   "execution_count": 67,
   "metadata": {},
   "outputs": [
    {
     "data": {
      "text/plain": [
       "{'weight': -0.019558098}"
      ]
     },
     "execution_count": 67,
     "metadata": {},
     "output_type": "execute_result"
    }
   ],
   "source": [
    "k_d2[\"k_1\"][\"d_2_0\"]"
   ]
  },
  {
   "cell_type": "code",
   "execution_count": 59,
   "metadata": {},
   "outputs": [
    {
     "data": {
      "text/plain": [
       "0.0"
      ]
     },
     "execution_count": 59,
     "metadata": {},
     "output_type": "execute_result"
    }
   ],
   "source": [
    "G[i[0]][i[1]][\"weight\"]"
   ]
  },
  {
   "cell_type": "code",
   "execution_count": 51,
   "metadata": {},
   "outputs": [
    {
     "data": {
      "text/plain": [
       "1"
      ]
     },
     "execution_count": 51,
     "metadata": {},
     "output_type": "execute_result"
    }
   ],
   "source": [
    "G[\"k_1\"][\"d_2_0\"][\"weight\"]"
   ]
  },
  {
   "cell_type": "code",
   "execution_count": 55,
   "metadata": {},
   "outputs": [
    {
     "data": {
      "text/plain": [
       "{'weight': 1}"
      ]
     },
     "execution_count": 55,
     "metadata": {},
     "output_type": "execute_result"
    }
   ],
   "source": [
    "G[i[0]][i[1]]"
   ]
  },
  {
   "cell_type": "code",
   "execution_count": 48,
   "metadata": {},
   "outputs": [
    {
     "data": {
      "text/plain": [
       "OutEdgeView([('k_1', 'd_2_0'), ('k_1', 'd_2_1'), ('k_1', 'd_2_2'), ('k_1', 'd_2_3'), ('k_1', 'd_2_4'), ('k_0', 'd_2_0'), ('k_0', 'd_2_1'), ('k_0', 'd_2_2'), ('k_0', 'd_2_3'), ('k_0', 'd_2_4')])"
      ]
     },
     "execution_count": 48,
     "metadata": {},
     "output_type": "execute_result"
    }
   ],
   "source": [
    "k_d2.edges"
   ]
  },
  {
   "cell_type": "code",
   "execution_count": 71,
   "metadata": {},
   "outputs": [
    {
     "data": {
      "text/plain": [
       "<tensorflow.python.keras.callbacks.History at 0x7f174c054c70>"
      ]
     },
     "execution_count": 71,
     "metadata": {},
     "output_type": "execute_result"
    }
   ],
   "source": [
    "#try tensorflow\n",
    "from tensorflow.keras.models import Sequential\n",
    "from tensorflow.keras.layers import Dense,Input\n",
    "\n",
    "model = Sequential([\n",
    "    Input(shape = (16,),name=\"in_layer\"),\n",
    "    Dense(5,activation =\"relu\",name=\"dense_1\"),\n",
    "    Dense(5,activation =\"relu\",name=\"dense_2\"),\n",
    "    Dense(2,name=\"out\")\n",
    "])\n",
    "\n",
    "\n",
    "x = np.random.randn(16*2*10).reshape((20,16))\n",
    "y = np.random.randn(20*2).reshape((20,2))\n",
    "\n",
    "model.compile(loss=\"mse\",optimizer=\"adam\")\n",
    "model.fit(x,y,epochs=20,verbose = 0)"
   ]
  },
  {
   "cell_type": "code",
   "execution_count": 9,
   "metadata": {},
   "outputs": [
    {
     "data": {
      "text/plain": [
       "array([-0.12765835, -0.42458633], dtype=float32)"
      ]
     },
     "execution_count": 9,
     "metadata": {},
     "output_type": "execute_result"
    }
   ],
   "source": [
    "#weights to network\n",
    "model.layers[-1].get_weights()[0][0]"
   ]
  },
  {
   "cell_type": "code",
   "execution_count": 74,
   "metadata": {},
   "outputs": [],
   "source": [
    "from tensorflow.keras import backend\n",
    "from tensorflow.keras.models import Model\n",
    "\n",
    "get_intermediate_layer = backend.function([model.layers[0].input],[model.layers[1].output])\n",
    "int_layer = Model(inputs = model.layers[0].input, outputs = [model.get_layer(\"dense_1\").output,model.get_layer(\"dense_2\").output])\n",
    "layer_last  =int_layer.predict(x)\n",
    "\n",
    "layer_weights_dict0 = {\"dense_1\":0,\"dense_2\":1}"
   ]
  },
  {
   "cell_type": "code",
   "execution_count": 69,
   "metadata": {},
   "outputs": [
    {
     "data": {
      "text/plain": [
       "[array([[0.        , 0.01755685, 0.14991546, 0.06524354, 0.        ],\n",
       "        [0.        , 0.03225027, 0.13596597, 0.65948576, 0.4504271 ],\n",
       "        [0.11078004, 0.        , 0.        , 0.01371111, 0.        ],\n",
       "        [0.08736927, 0.        , 0.        , 0.        , 0.01212975],\n",
       "        [0.        , 0.        , 0.        , 0.02014004, 0.        ],\n",
       "        [0.05738484, 0.        , 0.        , 1.07173   , 0.86270857],\n",
       "        [0.57094544, 0.        , 0.        , 0.        , 0.        ],\n",
       "        [0.        , 0.        , 0.599597  , 1.0563825 , 0.531058  ],\n",
       "        [0.82973325, 0.        , 0.11655943, 0.11770476, 0.        ],\n",
       "        [0.        , 0.        , 0.        , 0.        , 0.        ],\n",
       "        [0.05518012, 0.        , 0.24231204, 0.11044995, 0.        ],\n",
       "        [0.27298826, 0.        , 0.16381377, 0.09834836, 0.        ],\n",
       "        [0.        , 0.34864178, 1.1594117 , 0.        , 0.        ],\n",
       "        [0.67142737, 0.        , 0.        , 0.05930174, 0.        ],\n",
       "        [0.        , 0.27123594, 0.43358535, 0.        , 0.        ],\n",
       "        [0.        , 0.11860199, 0.        , 0.798029  , 0.7219064 ],\n",
       "        [0.        , 0.        , 0.54017967, 0.19672891, 0.        ],\n",
       "        [0.25766277, 0.        , 0.        , 0.9782292 , 0.71364886],\n",
       "        [0.        , 0.        , 0.04020292, 0.        , 0.        ],\n",
       "        [0.        , 0.6829949 , 0.        , 0.25674403, 1.0212282 ]],\n",
       "       dtype=float32),\n",
       " array([[ 0.09874298,  0.04106161],\n",
       "        [ 0.0819301 ,  0.18135886],\n",
       "        [-0.03882864, -0.01810136],\n",
       "        [-0.02451191, -0.02448741],\n",
       "        [-0.02721075,  0.0333307 ],\n",
       "        [-0.02458521,  0.23380025],\n",
       "        [-0.09218938, -0.22285752],\n",
       "        [ 0.3616482 ,  0.3889001 ],\n",
       "        [-0.06735352, -0.2617281 ],\n",
       "        [-0.01930342,  0.0195581 ],\n",
       "        [ 0.14666754,  0.05194318],\n",
       "        [ 0.05351643, -0.0424235 ],\n",
       "        [ 1.21045   , -0.29151785],\n",
       "        [-0.12829962, -0.22496778],\n",
       "        [ 0.519136  , -0.18433857],\n",
       "        [ 0.08733062,  0.07793898],\n",
       "        [ 0.38582686,  0.11013612],\n",
       "        [-0.08649824,  0.17022862],\n",
       "        [ 0.01659697,  0.01628686],\n",
       "        [ 0.7612871 , -0.8145706 ]], dtype=float32)]"
      ]
     },
     "execution_count": 69,
     "metadata": {},
     "output_type": "execute_result"
    }
   ],
   "source": [
    "layer_last"
   ]
  },
  {
   "cell_type": "code",
   "execution_count": 15,
   "metadata": {},
   "outputs": [
    {
     "data": {
      "text/plain": [
       "array([0.        , 0.01755685, 0.14991546, 0.06524354, 0.        ],\n",
       "      dtype=float32)"
      ]
     },
     "execution_count": 15,
     "metadata": {},
     "output_type": "execute_result"
    }
   ],
   "source": [
    "layer_last[0]"
   ]
  },
  {
   "cell_type": "code",
   "execution_count": null,
   "metadata": {},
   "outputs": [],
   "source": []
  },
  {
   "cell_type": "markdown",
   "metadata": {},
   "source": []
  }
 ],
 "metadata": {
  "kernelspec": {
   "display_name": "Python 3",
   "language": "python",
   "name": "python3"
  },
  "language_info": {
   "codemirror_mode": {
    "name": "ipython",
    "version": 3
   },
   "file_extension": ".py",
   "mimetype": "text/x-python",
   "name": "python",
   "nbconvert_exporter": "python",
   "pygments_lexer": "ipython3",
   "version": "3.8.2"
  }
 },
 "nbformat": 4,
 "nbformat_minor": 4
}
