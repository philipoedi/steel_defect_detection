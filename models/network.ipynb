{
 "cells": [
  {
   "cell_type": "code",
   "execution_count": 1,
   "metadata": {},
   "outputs": [],
   "source": [
    "import numpy as np\n",
    "import networkx as nx\n",
    "from itertools import product"
   ]
  },
  {
   "cell_type": "code",
   "execution_count": 30,
   "metadata": {},
   "outputs": [
    {
     "data": {
      "text/plain": [
       "<tensorflow.python.keras.callbacks.History at 0x7f69902b3a00>"
      ]
     },
     "execution_count": 30,
     "metadata": {},
     "output_type": "execute_result"
    }
   ],
   "source": [
    "#try tensorflow\n",
    "from tensorflow.keras.models import Sequential\n",
    "from tensorflow.keras.layers import Dense,Input\n",
    "\n",
    "model = Sequential([\n",
    "    Input(shape = (16,),name=\"inlayer\"),\n",
    "    Dense(5,activation =\"relu\",name=\"dense1\"),\n",
    "    Dense(5,activation =\"relu\",name=\"dense2\"),\n",
    "    Dense(2,name=\"classes\")\n",
    "])\n",
    "\n",
    "\n",
    "x = np.random.randn(16*2*10).reshape((20,16))\n",
    "y = np.random.randn(20*2).reshape((20,2))\n",
    "\n",
    "model.compile(loss=\"mse\",optimizer=\"adam\")\n",
    "model.fit(x,y,epochs=20,verbose = 0)"
   ]
  },
  {
   "cell_type": "code",
   "execution_count": 48,
   "metadata": {},
   "outputs": [],
   "source": [
    "from tensorflow.keras import backend\n",
    "from tensorflow.keras.models import Model\n",
    "\n",
    "get_intermediate_layer = backend.function([model.layers[0].input],[model.layers[1].output])\n",
    "int_layer = Model(inputs = model.layers[0].input, outputs = [model.get_layer(\"dense1\").input,model.get_layer(\"dense2\").input,model.get_layer(\"classes\").input])\n",
    "layer_last  =int_layer.predict(x)\n",
    "\n",
    "layer_inputs = {\"dense1\":layer_last[0],\"dense2\":layer_last[1],\"classes\":layer_last[2]}"
   ]
  },
  {
   "cell_type": "code",
   "execution_count": 186,
   "metadata": {},
   "outputs": [],
   "source": [
    "def naming(length,pre):\n",
    "    return list(map(lambda x: pre+\"_{}\".format(x),list(range(length))))\n",
    "\n",
    "def full_connect(graph,start,end):\n",
    "    for i,j in product(start,end):\n",
    "        graph.add_edge(i,j)\n",
    "    start.extend(end)\n",
    "    return graph.subgraph(start+end)\n",
    "\n",
    "def add_weight_full(start,end,graph,weight):\n",
    "    layer_weights = model.get_layer(start).get_weights()       \n",
    "    layer_last  = int_layer.predict(x)\n",
    "    for i in graph.edges:\n",
    "        start_node = int(i[0].split(\"_\")[-1])\n",
    "        end_node = int(i[1].split(\"_\")[-1])\n",
    "        graph[i[0]][i[1]][\"weight\"] = layer_weights[0][end_node,start_node]*layer_last[0,end_node] - layer_weights[1][start_node]\n",
    "        print(G[i[0]][i[1]])\n",
    "    \n",
    "def add_weight_to_edge(start,end,graph,model,layer_inputs):\n",
    "    start_splitted = start.split(\"_\")\n",
    "    end_splitted = end.split(\"_\")\n",
    "    start_layer = start_splitted[0]\n",
    "    start_node = int(start_splitted[1])\n",
    "    end_node = int(end_splitted[1])\n",
    "    layer = model.get_layer(start_layer)\n",
    "    layer_weights = layer.weights\n",
    "    layer_inputs_node = layer_inputs[start_layer]\n",
    "    bias = layer_weights[1][end_node] / layer_weights[0].shape[1]\n",
    "    bias = bias.numpy()\n",
    "    edge = layer_weights[0][start_node,end_node] * layer_inputs_node[0][start_node] \n",
    "    edge = edge.numpy()\n",
    "    print(edge)\n",
    "    print(bias)    \n",
    "    graph[end][start][\"weight\"] = 1/np.max([0.00001,edge - bias])    \n",
    "    \n",
    "k = 2\n",
    "d2 = 5\n",
    "d1 = 5\n",
    "\n",
    "inlayer = 16\n",
    "\n",
    "d2_layer = naming(d2,\"dense2\") \n",
    "d1_layer = naming(d1,\"dense1\")\n",
    "k_layer = naming(k,\"classes\")\n",
    "inlayer = naming(inlayer,\"inlayer\")\n",
    "\n",
    "G = nx.DiGraph()\n",
    "G.add_nodes_from(k_layer)\n",
    "G.add_nodes_from(inlayer)\n",
    "G.add_nodes_from(d2_layer)\n",
    "G.add_nodes_from(d1_layer)\n",
    "\n",
    "k_d2 = full_connect(G,k_layer,d2_layer)\n",
    "d2_d1 = full_connect(G,d2_layer,d1_layer)\n",
    "d1_in = full_connect(G,d1_layer,inlayer)\n",
    "in_end = full_connect(G,inlayer,[\"end\"])\n",
    "\n",
    "\n",
    "\n",
    "#weights to network\n",
    "#layer_weights = model.layers[-1].get_weights()\n",
    "#layer_last  = int_layer.predict(x)\n",
    "#for i in k_d2.edges:\n",
    "#    start_node = int(i[0].split(\"_\")[-1])\n",
    "\n",
    "#    end_node = int(i[1].split(\"_\")[-1])\n",
    "#    G[i[0]][i[1]][\"weight\"] = layer_weights[0][end_node,start_node]*layer_last[0,end_node] - layer_weights[1][start_node]\n",
    "#    print(G[i[0]][i[1]])\n"
   ]
  },
  {
   "cell_type": "code",
   "execution_count": 89,
   "metadata": {},
   "outputs": [],
   "source": [
    "start = \"dense1_0\"\n",
    "end = \"dense2_0\"\n",
    "graph = G\n",
    "\n",
    "start_splitted = start.split(\"_\")\n",
    "end_splitted = end.split(\"_\")\n",
    "start_layer = start_splitted[0]\n",
    "start_node = int(start_splitted[1])\n",
    "end_node = int(end_splitted[1])\n",
    "layer = model.get_layer(start_layer)\n",
    "layer_weights = layer.weights\n",
    "layer_inputs_node = layer_inputs[start_layer]\n",
    "bias = layer_weights[1][end_node] / layer_weights[0].shape[1]\n",
    "bias = bias.numpy()\n",
    "edge = layer_weights[0][start_node,end_node] * layer_inputs_node[0][start_node] \n",
    "edge = edge.numpy()\n",
    "graph[end][start][\"weight\"] = edge - bias    "
   ]
  },
  {
   "cell_type": "code",
   "execution_count": 149,
   "metadata": {},
   "outputs": [
    {
     "ename": "TypeError",
     "evalue": "'numpy.float32' object cannot be interpreted as an integer",
     "output_type": "error",
     "traceback": [
      "\u001b[0;31m---------------------------------------------------------------------------\u001b[0m",
      "\u001b[0;31mTypeError\u001b[0m                                 Traceback (most recent call last)",
      "\u001b[0;32m<ipython-input-149-f1f71530b50b>\u001b[0m in \u001b[0;36m<module>\u001b[0;34m\u001b[0m\n\u001b[0;32m----> 1\u001b[0;31m \u001b[0madd_weight_to_edge\u001b[0m\u001b[0;34m(\u001b[0m\u001b[0mstart\u001b[0m\u001b[0;34m,\u001b[0m\u001b[0mend\u001b[0m\u001b[0;34m,\u001b[0m\u001b[0mG\u001b[0m\u001b[0;34m,\u001b[0m\u001b[0mmodel\u001b[0m\u001b[0;34m,\u001b[0m\u001b[0mlayer_inputs\u001b[0m\u001b[0;34m)\u001b[0m\u001b[0;34m\u001b[0m\u001b[0;34m\u001b[0m\u001b[0m\n\u001b[0m",
      "\u001b[0;32m<ipython-input-148-82c6ae23e439>\u001b[0m in \u001b[0;36madd_weight_to_edge\u001b[0;34m(start, end, graph, model, layer_inputs)\u001b[0m\n\u001b[1;32m     30\u001b[0m     \u001b[0medge\u001b[0m \u001b[0;34m=\u001b[0m \u001b[0mlayer_weights\u001b[0m\u001b[0;34m[\u001b[0m\u001b[0;36m0\u001b[0m\u001b[0;34m]\u001b[0m\u001b[0;34m[\u001b[0m\u001b[0mstart_node\u001b[0m\u001b[0;34m,\u001b[0m\u001b[0mend_node\u001b[0m\u001b[0;34m]\u001b[0m \u001b[0;34m*\u001b[0m \u001b[0mlayer_inputs_node\u001b[0m\u001b[0;34m[\u001b[0m\u001b[0;36m0\u001b[0m\u001b[0;34m]\u001b[0m\u001b[0;34m[\u001b[0m\u001b[0mstart_node\u001b[0m\u001b[0;34m]\u001b[0m\u001b[0;34m\u001b[0m\u001b[0;34m\u001b[0m\u001b[0m\n\u001b[1;32m     31\u001b[0m     \u001b[0medge\u001b[0m \u001b[0;34m=\u001b[0m \u001b[0medge\u001b[0m\u001b[0;34m.\u001b[0m\u001b[0mnumpy\u001b[0m\u001b[0;34m(\u001b[0m\u001b[0;34m)\u001b[0m\u001b[0;34m\u001b[0m\u001b[0;34m\u001b[0m\u001b[0m\n\u001b[0;32m---> 32\u001b[0;31m     \u001b[0mgraph\u001b[0m\u001b[0;34m[\u001b[0m\u001b[0mend\u001b[0m\u001b[0;34m]\u001b[0m\u001b[0;34m[\u001b[0m\u001b[0mstart\u001b[0m\u001b[0;34m]\u001b[0m\u001b[0;34m[\u001b[0m\u001b[0;34m\"weight\"\u001b[0m\u001b[0;34m]\u001b[0m \u001b[0;34m=\u001b[0m \u001b[0;36m1\u001b[0m\u001b[0;34m/\u001b[0m\u001b[0mnp\u001b[0m\u001b[0;34m.\u001b[0m\u001b[0mmax\u001b[0m\u001b[0;34m(\u001b[0m\u001b[0;36m0.00000000000001\u001b[0m\u001b[0;34m,\u001b[0m\u001b[0medge\u001b[0m \u001b[0;34m-\u001b[0m \u001b[0mbias\u001b[0m\u001b[0;34m)\u001b[0m\u001b[0;34m\u001b[0m\u001b[0;34m\u001b[0m\u001b[0m\n\u001b[0m\u001b[1;32m     33\u001b[0m \u001b[0;34m\u001b[0m\u001b[0m\n\u001b[1;32m     34\u001b[0m \u001b[0mk\u001b[0m \u001b[0;34m=\u001b[0m \u001b[0;36m2\u001b[0m\u001b[0;34m\u001b[0m\u001b[0;34m\u001b[0m\u001b[0m\n",
      "\u001b[0;32m<__array_function__ internals>\u001b[0m in \u001b[0;36mamax\u001b[0;34m(*args, **kwargs)\u001b[0m\n",
      "\u001b[0;32m~/miniconda3/envs/steel/lib/python3.8/site-packages/numpy/core/fromnumeric.py\u001b[0m in \u001b[0;36mamax\u001b[0;34m(a, axis, out, keepdims, initial, where)\u001b[0m\n\u001b[1;32m   2665\u001b[0m     \u001b[0;36m5\u001b[0m\u001b[0;34m\u001b[0m\u001b[0;34m\u001b[0m\u001b[0m\n\u001b[1;32m   2666\u001b[0m     \"\"\"\n\u001b[0;32m-> 2667\u001b[0;31m     return _wrapreduction(a, np.maximum, 'max', axis, None, out,\n\u001b[0m\u001b[1;32m   2668\u001b[0m                           keepdims=keepdims, initial=initial, where=where)\n\u001b[1;32m   2669\u001b[0m \u001b[0;34m\u001b[0m\u001b[0m\n",
      "\u001b[0;32m~/miniconda3/envs/steel/lib/python3.8/site-packages/numpy/core/fromnumeric.py\u001b[0m in \u001b[0;36m_wrapreduction\u001b[0;34m(obj, ufunc, method, axis, dtype, out, **kwargs)\u001b[0m\n\u001b[1;32m     88\u001b[0m                 \u001b[0;32mreturn\u001b[0m \u001b[0mreduction\u001b[0m\u001b[0;34m(\u001b[0m\u001b[0maxis\u001b[0m\u001b[0;34m=\u001b[0m\u001b[0maxis\u001b[0m\u001b[0;34m,\u001b[0m \u001b[0mout\u001b[0m\u001b[0;34m=\u001b[0m\u001b[0mout\u001b[0m\u001b[0;34m,\u001b[0m \u001b[0;34m**\u001b[0m\u001b[0mpasskwargs\u001b[0m\u001b[0;34m)\u001b[0m\u001b[0;34m\u001b[0m\u001b[0;34m\u001b[0m\u001b[0m\n\u001b[1;32m     89\u001b[0m \u001b[0;34m\u001b[0m\u001b[0m\n\u001b[0;32m---> 90\u001b[0;31m     \u001b[0;32mreturn\u001b[0m \u001b[0mufunc\u001b[0m\u001b[0;34m.\u001b[0m\u001b[0mreduce\u001b[0m\u001b[0;34m(\u001b[0m\u001b[0mobj\u001b[0m\u001b[0;34m,\u001b[0m \u001b[0maxis\u001b[0m\u001b[0;34m,\u001b[0m \u001b[0mdtype\u001b[0m\u001b[0;34m,\u001b[0m \u001b[0mout\u001b[0m\u001b[0;34m,\u001b[0m \u001b[0;34m**\u001b[0m\u001b[0mpasskwargs\u001b[0m\u001b[0;34m)\u001b[0m\u001b[0;34m\u001b[0m\u001b[0;34m\u001b[0m\u001b[0m\n\u001b[0m\u001b[1;32m     91\u001b[0m \u001b[0;34m\u001b[0m\u001b[0m\n\u001b[1;32m     92\u001b[0m \u001b[0;34m\u001b[0m\u001b[0m\n",
      "\u001b[0;31mTypeError\u001b[0m: 'numpy.float32' object cannot be interpreted as an integer"
     ]
    }
   ],
   "source": [
    "add_weight_to_edge(start,end,G,model,layer_inputs)"
   ]
  },
  {
   "cell_type": "code",
   "execution_count": 185,
   "metadata": {},
   "outputs": [
    {
     "data": {
      "text/plain": [
       "0.15558237"
      ]
     },
     "execution_count": 185,
     "metadata": {},
     "output_type": "execute_result"
    }
   ],
   "source": [
    "edge"
   ]
  },
  {
   "cell_type": "code",
   "execution_count": 187,
   "metadata": {},
   "outputs": [
    {
     "name": "stdout",
     "output_type": "stream",
     "text": [
      "0.0\n",
      "-0.0038814235\n",
      "-0.0\n",
      "-0.0038814235\n",
      "0.28274533\n",
      "-0.0038814235\n",
      "-0.0\n",
      "-0.0038814235\n",
      "-0.0\n",
      "-0.0038814235\n",
      "0.0\n",
      "-0.0034509513\n",
      "-0.0\n",
      "-0.0034509513\n",
      "-0.10865741\n",
      "-0.0034509513\n",
      "-0.0\n",
      "-0.0034509513\n",
      "0.0\n",
      "-0.0034509513\n",
      "inlayer_0 end\n",
      "inlayer_1 end\n",
      "inlayer_2 end\n",
      "inlayer_3 end\n",
      "inlayer_4 end\n",
      "inlayer_5 end\n",
      "inlayer_6 end\n",
      "inlayer_7 end\n",
      "inlayer_8 end\n",
      "inlayer_9 end\n",
      "inlayer_10 end\n",
      "inlayer_11 end\n",
      "inlayer_12 end\n",
      "inlayer_13 end\n",
      "inlayer_14 end\n",
      "inlayer_15 end\n",
      "0.15558237\n",
      "-0.0037132718\n",
      "0.024921438\n",
      "-0.0037132718\n",
      "-0.14910682\n",
      "-0.0037132718\n",
      "0.21545057\n",
      "-0.0037132718\n",
      "-0.26844952\n",
      "-0.0037132718\n",
      "0.46381184\n",
      "-0.0040353313\n",
      "0.0126817925\n",
      "-0.0040353313\n",
      "-0.06635935\n",
      "-0.0040353313\n",
      "-0.15090765\n",
      "-0.0040353313\n",
      "0.27754745\n",
      "-0.0040353313\n",
      "-0.24894632\n",
      "-0.0038513\n",
      "-0.0041742376\n",
      "-0.0038513\n",
      "0.10606072\n",
      "-0.0038513\n",
      "-0.19108412\n",
      "-0.0038513\n",
      "-0.33665562\n",
      "-0.0038513\n",
      "0.3958807\n",
      "-0.004010816\n",
      "0.009016857\n",
      "-0.004010816\n",
      "-0.42719242\n",
      "-0.004010816\n",
      "-0.18452898\n",
      "-0.004010816\n",
      "0.07422716\n",
      "-0.004010816\n",
      "-0.48694026\n",
      "-0.003940221\n",
      "-0.03625872\n",
      "-0.003940221\n",
      "0.41352245\n",
      "-0.003940221\n",
      "0.16259147\n",
      "-0.003940221\n",
      "-0.033544134\n",
      "-0.003940221\n",
      "dense1_0 inlayer_0\n",
      "dense1_0 inlayer_1\n",
      "dense1_0 inlayer_2\n",
      "dense1_0 inlayer_3\n",
      "dense1_0 inlayer_4\n",
      "dense1_0 inlayer_5\n",
      "dense1_0 inlayer_6\n",
      "dense1_0 inlayer_7\n",
      "dense1_0 inlayer_8\n",
      "dense1_0 inlayer_9\n",
      "dense1_0 inlayer_10\n",
      "dense1_0 inlayer_11\n",
      "dense1_0 inlayer_12\n",
      "dense1_0 inlayer_13\n",
      "dense1_0 inlayer_14\n",
      "dense1_0 inlayer_15\n",
      "dense1_1 inlayer_0\n",
      "dense1_1 inlayer_1\n",
      "dense1_1 inlayer_2\n",
      "dense1_1 inlayer_3\n",
      "dense1_1 inlayer_4\n",
      "dense1_1 inlayer_5\n",
      "dense1_1 inlayer_6\n",
      "dense1_1 inlayer_7\n",
      "dense1_1 inlayer_8\n",
      "dense1_1 inlayer_9\n",
      "dense1_1 inlayer_10\n",
      "dense1_1 inlayer_11\n",
      "dense1_1 inlayer_12\n",
      "dense1_1 inlayer_13\n",
      "dense1_1 inlayer_14\n",
      "dense1_1 inlayer_15\n",
      "dense1_2 inlayer_0\n",
      "dense1_2 inlayer_1\n",
      "dense1_2 inlayer_2\n",
      "dense1_2 inlayer_3\n",
      "dense1_2 inlayer_4\n",
      "dense1_2 inlayer_5\n",
      "dense1_2 inlayer_6\n",
      "dense1_2 inlayer_7\n",
      "dense1_2 inlayer_8\n",
      "dense1_2 inlayer_9\n",
      "dense1_2 inlayer_10\n",
      "dense1_2 inlayer_11\n",
      "dense1_2 inlayer_12\n",
      "dense1_2 inlayer_13\n",
      "dense1_2 inlayer_14\n",
      "dense1_2 inlayer_15\n",
      "dense1_3 inlayer_0\n",
      "dense1_3 inlayer_1\n",
      "dense1_3 inlayer_2\n",
      "dense1_3 inlayer_3\n",
      "dense1_3 inlayer_4\n",
      "dense1_3 inlayer_5\n",
      "dense1_3 inlayer_6\n",
      "dense1_3 inlayer_7\n",
      "dense1_3 inlayer_8\n",
      "dense1_3 inlayer_9\n",
      "dense1_3 inlayer_10\n",
      "dense1_3 inlayer_11\n",
      "dense1_3 inlayer_12\n",
      "dense1_3 inlayer_13\n",
      "dense1_3 inlayer_14\n",
      "dense1_3 inlayer_15\n",
      "dense1_4 inlayer_0\n",
      "dense1_4 inlayer_1\n",
      "dense1_4 inlayer_2\n",
      "dense1_4 inlayer_3\n",
      "dense1_4 inlayer_4\n",
      "dense1_4 inlayer_5\n",
      "dense1_4 inlayer_6\n",
      "dense1_4 inlayer_7\n",
      "dense1_4 inlayer_8\n",
      "dense1_4 inlayer_9\n",
      "dense1_4 inlayer_10\n",
      "dense1_4 inlayer_11\n",
      "dense1_4 inlayer_12\n",
      "dense1_4 inlayer_13\n",
      "dense1_4 inlayer_14\n",
      "dense1_4 inlayer_15\n"
     ]
    }
   ],
   "source": [
    "#add weights to all edges\n",
    "for i,j in G.edges:\n",
    "    try:\n",
    "        add_weight_to_edge(j,i,G,model,layer_inputs)\n",
    "    except:\n",
    "        print(i,j)\n",
    "        continue"
   ]
  },
  {
   "cell_type": "code",
   "execution_count": 188,
   "metadata": {},
   "outputs": [
    {
     "name": "stdout",
     "output_type": "stream",
     "text": [
      "classes_0 dense2_0 {'weight': 257.6374362822377}\n",
      "classes_0 dense2_1 {'weight': 257.6374362822377}\n",
      "classes_0 dense2_2 {'weight': 3.488857820840505}\n",
      "classes_0 dense2_3 {'weight': 257.6374362822377}\n",
      "classes_0 dense2_4 {'weight': 257.6374362822377}\n",
      "classes_1 dense2_0 {'weight': 289.7751695939804}\n",
      "classes_1 dense2_1 {'weight': 289.7751695939804}\n",
      "classes_1 dense2_2 {'weight': 99999.99999999999}\n",
      "classes_1 dense2_3 {'weight': 289.7751695939804}\n",
      "classes_1 dense2_4 {'weight': 289.7751695939804}\n",
      "inlayer_0 end {}\n",
      "inlayer_1 end {}\n",
      "inlayer_2 end {}\n",
      "inlayer_3 end {}\n",
      "inlayer_4 end {}\n",
      "inlayer_5 end {}\n",
      "inlayer_6 end {}\n",
      "inlayer_7 end {}\n",
      "inlayer_8 end {}\n",
      "inlayer_9 end {}\n",
      "inlayer_10 end {}\n",
      "inlayer_11 end {}\n",
      "inlayer_12 end {}\n",
      "inlayer_13 end {}\n",
      "inlayer_14 end {}\n",
      "inlayer_15 end {}\n",
      "dense2_0 dense1_0 {'weight': 6.277635980564911}\n",
      "dense2_0 dense1_1 {'weight': 34.92265127566952}\n",
      "dense2_0 dense1_2 {'weight': 99999.99999999999}\n",
      "dense2_0 dense1_3 {'weight': 4.562796593598134}\n",
      "dense2_0 dense1_4 {'weight': 99999.99999999999}\n",
      "dense2_1 dense1_0 {'weight': 2.137450149206802}\n",
      "dense2_1 dense1_1 {'weight': 59.81889925033465}\n",
      "dense2_1 dense1_2 {'weight': 99999.99999999999}\n",
      "dense2_1 dense1_3 {'weight': 99999.99999999999}\n",
      "dense2_1 dense1_4 {'weight': 3.5513536225901876}\n",
      "dense2_2 dense1_0 {'weight': 99999.99999999999}\n",
      "dense2_2 dense1_1 {'weight': 99999.99999999999}\n",
      "dense2_2 dense1_2 {'weight': 9.098185741433346}\n",
      "dense2_2 dense1_3 {'weight': 99999.99999999999}\n",
      "dense2_2 dense1_4 {'weight': 99999.99999999999}\n",
      "dense2_3 dense1_0 {'weight': 2.5006781494862214}\n",
      "dense2_3 dense1_1 {'weight': 76.75968121202511}\n",
      "dense2_3 dense1_2 {'weight': 99999.99999999999}\n",
      "dense2_3 dense1_3 {'weight': 99999.99999999999}\n",
      "dense2_3 dense1_4 {'weight': 12.781515988497775}\n",
      "dense2_4 dense1_0 {'weight': 99999.99999999999}\n",
      "dense2_4 dense1_1 {'weight': 99999.99999999999}\n",
      "dense2_4 dense1_2 {'weight': 2.3954237244697087}\n",
      "dense2_4 dense1_3 {'weight': 6.004862849062609}\n",
      "dense2_4 dense1_4 {'weight': 99999.99999999999}\n",
      "dense1_0 inlayer_0 {}\n",
      "dense1_0 inlayer_1 {}\n",
      "dense1_0 inlayer_2 {}\n",
      "dense1_0 inlayer_3 {}\n",
      "dense1_0 inlayer_4 {}\n",
      "dense1_0 inlayer_5 {}\n",
      "dense1_0 inlayer_6 {}\n",
      "dense1_0 inlayer_7 {}\n",
      "dense1_0 inlayer_8 {}\n",
      "dense1_0 inlayer_9 {}\n",
      "dense1_0 inlayer_10 {}\n",
      "dense1_0 inlayer_11 {}\n",
      "dense1_0 inlayer_12 {}\n",
      "dense1_0 inlayer_13 {}\n",
      "dense1_0 inlayer_14 {}\n",
      "dense1_0 inlayer_15 {}\n",
      "dense1_1 inlayer_0 {}\n",
      "dense1_1 inlayer_1 {}\n",
      "dense1_1 inlayer_2 {}\n",
      "dense1_1 inlayer_3 {}\n",
      "dense1_1 inlayer_4 {}\n",
      "dense1_1 inlayer_5 {}\n",
      "dense1_1 inlayer_6 {}\n",
      "dense1_1 inlayer_7 {}\n",
      "dense1_1 inlayer_8 {}\n",
      "dense1_1 inlayer_9 {}\n",
      "dense1_1 inlayer_10 {}\n",
      "dense1_1 inlayer_11 {}\n",
      "dense1_1 inlayer_12 {}\n",
      "dense1_1 inlayer_13 {}\n",
      "dense1_1 inlayer_14 {}\n",
      "dense1_1 inlayer_15 {}\n",
      "dense1_2 inlayer_0 {}\n",
      "dense1_2 inlayer_1 {}\n",
      "dense1_2 inlayer_2 {}\n",
      "dense1_2 inlayer_3 {}\n",
      "dense1_2 inlayer_4 {}\n",
      "dense1_2 inlayer_5 {}\n",
      "dense1_2 inlayer_6 {}\n",
      "dense1_2 inlayer_7 {}\n",
      "dense1_2 inlayer_8 {}\n",
      "dense1_2 inlayer_9 {}\n",
      "dense1_2 inlayer_10 {}\n",
      "dense1_2 inlayer_11 {}\n",
      "dense1_2 inlayer_12 {}\n",
      "dense1_2 inlayer_13 {}\n",
      "dense1_2 inlayer_14 {}\n",
      "dense1_2 inlayer_15 {}\n",
      "dense1_3 inlayer_0 {}\n",
      "dense1_3 inlayer_1 {}\n",
      "dense1_3 inlayer_2 {}\n",
      "dense1_3 inlayer_3 {}\n",
      "dense1_3 inlayer_4 {}\n",
      "dense1_3 inlayer_5 {}\n",
      "dense1_3 inlayer_6 {}\n",
      "dense1_3 inlayer_7 {}\n",
      "dense1_3 inlayer_8 {}\n",
      "dense1_3 inlayer_9 {}\n",
      "dense1_3 inlayer_10 {}\n",
      "dense1_3 inlayer_11 {}\n",
      "dense1_3 inlayer_12 {}\n",
      "dense1_3 inlayer_13 {}\n",
      "dense1_3 inlayer_14 {}\n",
      "dense1_3 inlayer_15 {}\n",
      "dense1_4 inlayer_0 {}\n",
      "dense1_4 inlayer_1 {}\n",
      "dense1_4 inlayer_2 {}\n",
      "dense1_4 inlayer_3 {}\n",
      "dense1_4 inlayer_4 {}\n",
      "dense1_4 inlayer_5 {}\n",
      "dense1_4 inlayer_6 {}\n",
      "dense1_4 inlayer_7 {}\n",
      "dense1_4 inlayer_8 {}\n",
      "dense1_4 inlayer_9 {}\n",
      "dense1_4 inlayer_10 {}\n",
      "dense1_4 inlayer_11 {}\n",
      "dense1_4 inlayer_12 {}\n",
      "dense1_4 inlayer_13 {}\n",
      "dense1_4 inlayer_14 {}\n",
      "dense1_4 inlayer_15 {}\n"
     ]
    }
   ],
   "source": [
    "for i,j in G.edges:\n",
    "    print(i,j,G[i][j])"
   ]
  },
  {
   "cell_type": "code",
   "execution_count": 184,
   "metadata": {},
   "outputs": [],
   "source": [
    "k_d2 = G.subgraph(d2_layer+d1_layer+k_layer)"
   ]
  },
  {
   "cell_type": "code",
   "execution_count": 131,
   "metadata": {},
   "outputs": [
    {
     "name": "stdout",
     "output_type": "stream",
     "text": [
      "classes_0 dense2_0 {'weight': 0.0038814235}\n",
      "classes_0 dense2_1 {'weight': 0.0038814235}\n",
      "classes_0 dense2_2 {'weight': 0.28662676}\n",
      "classes_0 dense2_3 {'weight': 0.0038814235}\n",
      "classes_0 dense2_4 {'weight': 0.0038814235}\n",
      "classes_1 dense2_0 {'weight': 0.0034509513}\n",
      "classes_1 dense2_1 {'weight': 0.0034509513}\n",
      "classes_1 dense2_2 {'weight': -0.10520646}\n",
      "classes_1 dense2_3 {'weight': 0.0034509513}\n",
      "classes_1 dense2_4 {'weight': 0.0034509513}\n",
      "dense2_0 dense1_0 {'weight': 0.15929563}\n",
      "dense2_0 dense1_1 {'weight': 0.02863471}\n",
      "dense2_0 dense1_2 {'weight': -0.14539355}\n",
      "dense2_0 dense1_3 {'weight': 0.21916384}\n",
      "dense2_0 dense1_4 {'weight': -0.26473624}\n",
      "dense2_1 dense1_0 {'weight': 0.46784717}\n",
      "dense2_1 dense1_1 {'weight': 0.016717125}\n",
      "dense2_1 dense1_2 {'weight': -0.062324017}\n",
      "dense2_1 dense1_3 {'weight': -0.14687231}\n",
      "dense2_1 dense1_4 {'weight': 0.28158277}\n",
      "dense2_2 dense1_0 {'weight': -0.24509503}\n",
      "dense2_2 dense1_1 {'weight': -0.0003229375}\n",
      "dense2_2 dense1_2 {'weight': 0.10991202}\n",
      "dense2_2 dense1_3 {'weight': -0.18723282}\n",
      "dense2_2 dense1_4 {'weight': -0.33280432}\n",
      "dense2_3 dense1_0 {'weight': 0.39989153}\n",
      "dense2_3 dense1_1 {'weight': 0.013027673}\n",
      "dense2_3 dense1_2 {'weight': -0.4231816}\n",
      "dense2_3 dense1_3 {'weight': -0.18051817}\n",
      "dense2_3 dense1_4 {'weight': 0.07823798}\n",
      "dense2_4 dense1_0 {'weight': -0.48300004}\n",
      "dense2_4 dense1_1 {'weight': -0.0323185}\n",
      "dense2_4 dense1_2 {'weight': 0.41746268}\n",
      "dense2_4 dense1_3 {'weight': 0.1665317}\n",
      "dense2_4 dense1_4 {'weight': -0.029603913}\n",
      "dense1_0 inlayer_0 {}\n",
      "dense1_0 inlayer_1 {}\n",
      "dense1_0 inlayer_2 {}\n",
      "dense1_0 inlayer_3 {}\n",
      "dense1_0 inlayer_4 {}\n",
      "dense1_0 inlayer_5 {}\n",
      "dense1_0 inlayer_6 {}\n",
      "dense1_0 inlayer_7 {}\n",
      "dense1_0 inlayer_8 {}\n",
      "dense1_0 inlayer_9 {}\n",
      "dense1_0 inlayer_10 {}\n",
      "dense1_0 inlayer_11 {}\n",
      "dense1_0 inlayer_12 {}\n",
      "dense1_0 inlayer_13 {}\n",
      "dense1_0 inlayer_14 {}\n",
      "dense1_0 inlayer_15 {}\n",
      "dense1_1 inlayer_0 {}\n",
      "dense1_1 inlayer_1 {}\n",
      "dense1_1 inlayer_2 {}\n",
      "dense1_1 inlayer_3 {}\n",
      "dense1_1 inlayer_4 {}\n",
      "dense1_1 inlayer_5 {}\n",
      "dense1_1 inlayer_6 {}\n",
      "dense1_1 inlayer_7 {}\n",
      "dense1_1 inlayer_8 {}\n",
      "dense1_1 inlayer_9 {}\n",
      "dense1_1 inlayer_10 {}\n",
      "dense1_1 inlayer_11 {}\n",
      "dense1_1 inlayer_12 {}\n",
      "dense1_1 inlayer_13 {}\n",
      "dense1_1 inlayer_14 {}\n",
      "dense1_1 inlayer_15 {}\n",
      "dense1_2 inlayer_0 {}\n",
      "dense1_2 inlayer_1 {}\n",
      "dense1_2 inlayer_2 {}\n",
      "dense1_2 inlayer_3 {}\n",
      "dense1_2 inlayer_4 {}\n",
      "dense1_2 inlayer_5 {}\n",
      "dense1_2 inlayer_6 {}\n",
      "dense1_2 inlayer_7 {}\n",
      "dense1_2 inlayer_8 {}\n",
      "dense1_2 inlayer_9 {}\n",
      "dense1_2 inlayer_10 {}\n",
      "dense1_2 inlayer_11 {}\n",
      "dense1_2 inlayer_12 {}\n",
      "dense1_2 inlayer_13 {}\n",
      "dense1_2 inlayer_14 {}\n",
      "dense1_2 inlayer_15 {}\n",
      "dense1_3 inlayer_0 {}\n",
      "dense1_3 inlayer_1 {}\n",
      "dense1_3 inlayer_2 {}\n",
      "dense1_3 inlayer_3 {}\n",
      "dense1_3 inlayer_4 {}\n",
      "dense1_3 inlayer_5 {}\n",
      "dense1_3 inlayer_6 {}\n",
      "dense1_3 inlayer_7 {}\n",
      "dense1_3 inlayer_8 {}\n",
      "dense1_3 inlayer_9 {}\n",
      "dense1_3 inlayer_10 {}\n",
      "dense1_3 inlayer_11 {}\n",
      "dense1_3 inlayer_12 {}\n",
      "dense1_3 inlayer_13 {}\n",
      "dense1_3 inlayer_14 {}\n",
      "dense1_3 inlayer_15 {}\n",
      "dense1_4 inlayer_0 {}\n",
      "dense1_4 inlayer_1 {}\n",
      "dense1_4 inlayer_2 {}\n",
      "dense1_4 inlayer_3 {}\n",
      "dense1_4 inlayer_4 {}\n",
      "dense1_4 inlayer_5 {}\n",
      "dense1_4 inlayer_6 {}\n",
      "dense1_4 inlayer_7 {}\n",
      "dense1_4 inlayer_8 {}\n",
      "dense1_4 inlayer_9 {}\n",
      "dense1_4 inlayer_10 {}\n",
      "dense1_4 inlayer_11 {}\n",
      "dense1_4 inlayer_12 {}\n",
      "dense1_4 inlayer_13 {}\n",
      "dense1_4 inlayer_14 {}\n",
      "dense1_4 inlayer_15 {}\n"
     ]
    }
   ],
   "source": [
    "for i,j in k_d2.edges:\n",
    "    print(i,j,k_d2[i][j])"
   ]
  },
  {
   "cell_type": "code",
   "execution_count": 133,
   "metadata": {},
   "outputs": [
    {
     "ename": "NetworkXError",
     "evalue": "Frozen graph can't be modified",
     "output_type": "error",
     "traceback": [
      "\u001b[0;31m---------------------------------------------------------------------------\u001b[0m",
      "\u001b[0;31mNetworkXError\u001b[0m                             Traceback (most recent call last)",
      "\u001b[0;32m<ipython-input-133-17455e8a6dcb>\u001b[0m in \u001b[0;36m<module>\u001b[0;34m\u001b[0m\n\u001b[0;32m----> 1\u001b[0;31m \u001b[0mk_d2\u001b[0m\u001b[0;34m.\u001b[0m\u001b[0mremove_nodes_from\u001b[0m\u001b[0;34m(\u001b[0m\u001b[0minlayer\u001b[0m\u001b[0;34m)\u001b[0m\u001b[0;34m\u001b[0m\u001b[0;34m\u001b[0m\u001b[0m\n\u001b[0m",
      "\u001b[0;32m~/miniconda3/envs/steel/lib/python3.8/site-packages/networkx/classes/function.py\u001b[0m in \u001b[0;36mfrozen\u001b[0;34m(*args, **kwargs)\u001b[0m\n\u001b[1;32m    142\u001b[0m \u001b[0;32mdef\u001b[0m \u001b[0mfrozen\u001b[0m\u001b[0;34m(\u001b[0m\u001b[0;34m*\u001b[0m\u001b[0margs\u001b[0m\u001b[0;34m,\u001b[0m \u001b[0;34m**\u001b[0m\u001b[0mkwargs\u001b[0m\u001b[0;34m)\u001b[0m\u001b[0;34m:\u001b[0m\u001b[0;34m\u001b[0m\u001b[0;34m\u001b[0m\u001b[0m\n\u001b[1;32m    143\u001b[0m     \u001b[0;34m\"\"\"Dummy method for raising errors when trying to modify frozen graphs\"\"\"\u001b[0m\u001b[0;34m\u001b[0m\u001b[0;34m\u001b[0m\u001b[0m\n\u001b[0;32m--> 144\u001b[0;31m     \u001b[0;32mraise\u001b[0m \u001b[0mnx\u001b[0m\u001b[0;34m.\u001b[0m\u001b[0mNetworkXError\u001b[0m\u001b[0;34m(\u001b[0m\u001b[0;34m\"Frozen graph can't be modified\"\u001b[0m\u001b[0;34m)\u001b[0m\u001b[0;34m\u001b[0m\u001b[0;34m\u001b[0m\u001b[0m\n\u001b[0m\u001b[1;32m    145\u001b[0m \u001b[0;34m\u001b[0m\u001b[0m\n\u001b[1;32m    146\u001b[0m \u001b[0;34m\u001b[0m\u001b[0m\n",
      "\u001b[0;31mNetworkXError\u001b[0m: Frozen graph can't be modified"
     ]
    }
   ],
   "source": [
    "k_d2.remove_nodes_from(inlayer)"
   ]
  },
  {
   "cell_type": "code",
   "execution_count": 189,
   "metadata": {},
   "outputs": [],
   "source": [
    "G.add_node(\"start\")"
   ]
  },
  {
   "cell_type": "code",
   "execution_count": 190,
   "metadata": {},
   "outputs": [
    {
     "data": {
      "text/plain": [
       "<networkx.classes.digraph.DiGraph at 0x7f6923ecbcd0>"
      ]
     },
     "execution_count": 190,
     "metadata": {},
     "output_type": "execute_result"
    }
   ],
   "source": [
    "full_connect(G,d1_layer,[\"start\"])    "
   ]
  },
  {
   "cell_type": "code",
   "execution_count": 191,
   "metadata": {},
   "outputs": [],
   "source": [
    "for i,j in G.edges:\n",
    "    if j == \"start\":\n",
    "        G[i][j][\"weight\"] = 1"
   ]
  },
  {
   "cell_type": "code",
   "execution_count": 192,
   "metadata": {},
   "outputs": [
    {
     "data": {
      "text/plain": [
       "1"
      ]
     },
     "execution_count": 192,
     "metadata": {},
     "output_type": "execute_result"
    }
   ],
   "source": [
    "G[i][j][\"weight\"]"
   ]
  },
  {
   "cell_type": "code",
   "execution_count": 193,
   "metadata": {},
   "outputs": [],
   "source": [
    "full_connect(G,[\"end_node\"],k_layer)\n",
    "\n",
    "for i,j in G.edges:\n",
    "    if i == \"end_node\":\n",
    "        G[i][j][\"weight\"] = 1"
   ]
  },
  {
   "cell_type": "code",
   "execution_count": 194,
   "metadata": {},
   "outputs": [
    {
     "data": {
      "text/plain": [
       "['end_node', 'dense2_1', 'dense1_0', 'start']"
      ]
     },
     "execution_count": 194,
     "metadata": {},
     "output_type": "execute_result"
    }
   ],
   "source": [
    "nx.shortest_path(G,\"end_node\",\"start\",weight=\"weight\")"
   ]
  },
  {
   "cell_type": "code",
   "execution_count": 195,
   "metadata": {},
   "outputs": [
    {
     "data": {
      "text/plain": [
       "4.137450149206802"
      ]
     },
     "execution_count": 195,
     "metadata": {},
     "output_type": "execute_result"
    }
   ],
   "source": [
    "nx.shortest_path_length(G,\"end_node\",\"start\",weight=\"weight\")"
   ]
  },
  {
   "cell_type": "code",
   "execution_count": 203,
   "metadata": {},
   "outputs": [],
   "source": [
    "paths = nx.all_shortest_paths(G,\"end_node\",\"start\",weight=\"weight\")"
   ]
  },
  {
   "cell_type": "code",
   "execution_count": 204,
   "metadata": {},
   "outputs": [
    {
     "name": "stdout",
     "output_type": "stream",
     "text": [
      "['end_node', 'dense2_1', 'dense1_0', 'start']\n"
     ]
    }
   ],
   "source": [
    "for i in paths:\n",
    "    print(i)"
   ]
  },
  {
   "cell_type": "code",
   "execution_count": 213,
   "metadata": {},
   "outputs": [
    {
     "name": "stdout",
     "output_type": "stream",
     "text": [
      "['end_node', 'dense2_1', 'dense1_0', 'start'] 4.137450149206802\n",
      "['end_node', 'dense2_4', 'dense1_2', 'start'] 4.395423724469708\n",
      "['end_node', 'dense2_3', 'dense1_0', 'start'] 4.500678149486221\n"
     ]
    },
    {
     "ename": "KeyError",
     "evalue": "'weight'",
     "output_type": "error",
     "traceback": [
      "\u001b[0;31m---------------------------------------------------------------------------\u001b[0m",
      "\u001b[0;31mKeyError\u001b[0m                                  Traceback (most recent call last)",
      "\u001b[0;32m<ipython-input-213-72edb72d788c>\u001b[0m in \u001b[0;36m<module>\u001b[0;34m\u001b[0m\n\u001b[1;32m      2\u001b[0m     \u001b[0mw\u001b[0m \u001b[0;34m=\u001b[0m \u001b[0;36m0\u001b[0m\u001b[0;34m\u001b[0m\u001b[0;34m\u001b[0m\u001b[0m\n\u001b[1;32m      3\u001b[0m     \u001b[0;32mfor\u001b[0m \u001b[0mj\u001b[0m \u001b[0;32min\u001b[0m \u001b[0mrange\u001b[0m\u001b[0;34m(\u001b[0m\u001b[0mlen\u001b[0m\u001b[0;34m(\u001b[0m\u001b[0mi\u001b[0m\u001b[0;34m)\u001b[0m\u001b[0;34m-\u001b[0m\u001b[0;36m1\u001b[0m\u001b[0;34m)\u001b[0m\u001b[0;34m:\u001b[0m\u001b[0;34m\u001b[0m\u001b[0;34m\u001b[0m\u001b[0m\n\u001b[0;32m----> 4\u001b[0;31m         \u001b[0mw\u001b[0m\u001b[0;34m+=\u001b[0m\u001b[0mG\u001b[0m\u001b[0;34m[\u001b[0m\u001b[0mi\u001b[0m\u001b[0;34m[\u001b[0m\u001b[0mj\u001b[0m\u001b[0;34m]\u001b[0m\u001b[0;34m]\u001b[0m\u001b[0;34m[\u001b[0m\u001b[0mi\u001b[0m\u001b[0;34m[\u001b[0m\u001b[0mj\u001b[0m\u001b[0;34m+\u001b[0m\u001b[0;36m1\u001b[0m\u001b[0;34m]\u001b[0m\u001b[0;34m]\u001b[0m\u001b[0;34m[\u001b[0m\u001b[0;34m\"weight\"\u001b[0m\u001b[0;34m]\u001b[0m\u001b[0;34m\u001b[0m\u001b[0;34m\u001b[0m\u001b[0m\n\u001b[0m\u001b[1;32m      5\u001b[0m     \u001b[0mprint\u001b[0m\u001b[0;34m(\u001b[0m\u001b[0mi\u001b[0m\u001b[0;34m,\u001b[0m\u001b[0mw\u001b[0m\u001b[0;34m)\u001b[0m\u001b[0;34m\u001b[0m\u001b[0;34m\u001b[0m\u001b[0m\n",
      "\u001b[0;31mKeyError\u001b[0m: 'weight'"
     ]
    }
   ],
   "source": [
    "\n",
    "for i in nx.shortest_simple_paths(G,\"end_node\",\"start\",weight=\"weight\"):\n",
    "    w = 0\n",
    "    for j in range(len(i)-1):\n",
    "        w += G[i[j]][i[j+1]][\"weight\"]\n",
    "    print(i,w)"
   ]
  },
  {
   "cell_type": "code",
   "execution_count": null,
   "metadata": {},
   "outputs": [],
   "source": []
  }
 ],
 "metadata": {
  "kernelspec": {
   "display_name": "Python 3",
   "language": "python",
   "name": "python3"
  },
  "language_info": {
   "codemirror_mode": {
    "name": "ipython",
    "version": 3
   },
   "file_extension": ".py",
   "mimetype": "text/x-python",
   "name": "python",
   "nbconvert_exporter": "python",
   "pygments_lexer": "ipython3",
   "version": "3.8.2"
  }
 },
 "nbformat": 4,
 "nbformat_minor": 4
}
